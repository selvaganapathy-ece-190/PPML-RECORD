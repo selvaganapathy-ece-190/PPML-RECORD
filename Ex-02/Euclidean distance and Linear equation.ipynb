{
 "cells": [
  {
   "cell_type": "code",
   "execution_count": 4,
   "metadata": {},
   "outputs": [
    {
     "data": {
      "text/plain": [
       "1.4142135623730951"
      ]
     },
     "execution_count": 4,
     "metadata": {},
     "output_type": "execute_result"
    }
   ],
   "source": [
    "import numpy as np\n",
    "p = np.array([2,0])\n",
    "q = np.array([1,-1])\n",
    "def d(a,b):\n",
    "    answer = np.sqrt(((a[0]-b[0])**2)+((a[1]-b[1])**2))\n",
    "    return answer\n",
    "d(q,p)"
   ]
  },
  {
   "cell_type": "code",
   "execution_count": 6,
   "metadata": {},
   "outputs": [
    {
     "name": "stdout",
     "output_type": "stream",
     "text": [
      "1082\n"
     ]
    }
   ],
   "source": [
    "h = np.array([5,22])\n",
    "i = np.array([58,36])\n",
    "print(h.dot(i))"
   ]
  },
  {
   "cell_type": "code",
   "execution_count": 7,
   "metadata": {},
   "outputs": [
    {
     "name": "stdout",
     "output_type": "stream",
     "text": [
      "[ 0.74883343 -0.42240419 -0.18671162]\n"
     ]
    }
   ],
   "source": [
    "A = np.array([[21, 11, -21],\n",
    "              [31, 22, 21],\n",
    "              [11, -21, 22]])\n",
    "B = np.array([15, 10, 13])\n",
    "X = np.linalg.inv(A).dot(B)\n",
    "print(X)"
   ]
  },
  {
   "cell_type": "code",
   "execution_count": null,
   "metadata": {},
   "outputs": [],
   "source": []
  }
 ],
 "metadata": {
  "kernelspec": {
   "display_name": "Python 3",
   "language": "python",
   "name": "python3"
  },
  "language_info": {
   "codemirror_mode": {
    "name": "ipython",
    "version": 3
   },
   "file_extension": ".py",
   "mimetype": "text/x-python",
   "name": "python",
   "nbconvert_exporter": "python",
   "pygments_lexer": "ipython3",
   "version": "3.7.1"
  }
 },
 "nbformat": 4,
 "nbformat_minor": 5
}
